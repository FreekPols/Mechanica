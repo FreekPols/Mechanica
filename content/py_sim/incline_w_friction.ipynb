{
 "cells": [
  {
   "cell_type": "markdown",
   "id": "b686b7db-047d-4ca2-af11-1485f63f1991",
   "metadata": {},
   "source": [
    "# Sliding with and without friction\n"
   ]
  },
  {
   "cell_type": "code",
   "execution_count": 1,
   "id": "641faf16-b83d-4d4a-8ada-68a9ab295e1a",
   "metadata": {},
   "outputs": [
    {
     "data": {
      "application/vnd.jupyter.widget-view+json": {
       "model_id": "1c906187db04411da8544e045732345e",
       "version_major": 2,
       "version_minor": 0
      },
      "text/plain": [
       "interactive(children=(FloatSlider(value=0.7853981633974483, description='theta', max=1.5707963267948966, step=…"
      ]
     },
     "metadata": {},
     "output_type": "display_data"
    },
    {
     "data": {
      "text/plain": [
       "<function __main__.update(theta, mu)>"
      ]
     },
     "execution_count": 1,
     "metadata": {},
     "output_type": "execute_result"
    }
   ],
   "source": [
    "import numpy as np\n",
    "import matplotlib.pyplot as plt\n",
    "from matplotlib.patches import Rectangle\n",
    "from matplotlib.transforms import Affine2D\n",
    "from ipywidgets import interact\n",
    "import ipywidgets as widgets\n",
    "\n",
    "# Constants\n",
    "start = [0, 0]\n",
    "\n",
    "L = 2\n",
    "m = 10 #kg\n",
    "g = 9.81 #kgm/s^2\n",
    "t = np.linspace(0,5,100)\n",
    "\n",
    "def Fw(theta,mu):\n",
    "    return mu*m*g*np.cos(theta)\n",
    "\n",
    "def Fzx(theta):\n",
    "    return m*g*np.sin(theta)\n",
    "\n",
    "def update(theta,mu):\n",
    "    # Compute arrow end coordinates\n",
    "    end = np.array([L * np.cos(theta), L * np.sin(theta)])\n",
    "\n",
    "    # Clear figure\n",
    "    plt.clf()\n",
    "    fig, axs = plt.subplots(1,2, figsize=(10, 5), gridspec_kw={'wspace': 0.4})\n",
    "    \n",
    "    # first plot showing angle and box\n",
    "    ax = axs[0]\n",
    "    ax.set_xlim(0, 2)\n",
    "    ax.set_ylim(0, 2)\n",
    "    ax.set_aspect('equal')\n",
    "    ax.grid(True)\n",
    "\n",
    "    if Fw(theta,mu)>Fzx(theta):\n",
    "        ax.text(1.5, 1.5, 'Stable', fontsize=12)\n",
    "    else:\n",
    "        ax.text(1.5, 1.5, 'Sliding', fontsize=12)\n",
    "    # Draw arrow\n",
    "    ax.arrow(start[0], start[1], end[0], end[1],\n",
    "             head_width=0, head_length=0, fc='black', ec='black')\n",
    "\n",
    "    # Box properties\n",
    "    box_width = 0.4\n",
    "    box_height = 0.2\n",
    "\n",
    "    # Create unrotated rectangle at (0,0)\n",
    "    rect = Rectangle((-box_width / 2, 0 ),\n",
    "                     box_width, box_height,\n",
    "                     linewidth=1, edgecolor='red', facecolor='lightgray')\n",
    "\n",
    "    # Compute arrow end coordinates\n",
    "    end = start + np.array([L * np.cos(theta), L * np.sin(theta)])\n",
    "\n",
    "    # Compute midpoint of arrow\n",
    "    mid = start + np.array([L/2 * np.cos(theta), L/2 * np.sin(theta)])\n",
    "    \n",
    "    # Transformation: rotate around origin, then translate to arrow tip\n",
    "    trans = (Affine2D()\n",
    "             .rotate(theta)\n",
    "             .translate(mid[0], mid[1]) + ax.transData)\n",
    "\n",
    "    rect.set_transform(trans)\n",
    "    ax.add_patch(rect)\n",
    "\n",
    "    # second plot showing motion with and without friction\n",
    "    ax2 = axs[1]\n",
    "    \n",
    "    ax2.set_xlabel('$t$(s)')\n",
    "    ax2.set_ylabel('$s$(m)')\n",
    "    \n",
    "    \n",
    "    ax2.plot(t,1/2*g*np.sin(theta)*t**2,'k-',label='without friction')\n",
    "    \n",
    "    if Fw(theta,mu)>Fzx(theta):\n",
    "        ax2.plot(t,np.zeros(len(t)),'r-',label='with friction')\n",
    "    else:\n",
    "        ax2.plot(t,1/2*g*(np.sin(theta)-mu*np.cos(theta))*t**2,'r-',label='with friction')\n",
    "        \n",
    "  \n",
    "    ax2.set_ylim(0,120)\n",
    "    ax2.legend()\n",
    "    \n",
    "   \n",
    "    \n",
    "    plt.show()\n",
    "\n",
    "# Use FloatSlider for smooth interaction\n",
    "interact(update, theta=widgets.FloatSlider(min=0, max=np.pi/2, step=np.pi/16, value=np.pi/4),\n",
    "         mu=widgets.FloatSlider(min=0, max=1, step=0.05, value=1))\n"
   ]
  },
  {
   "cell_type": "code",
   "execution_count": null,
   "id": "0356ea79-3feb-420f-b962-cb0b202eabb6",
   "metadata": {},
   "outputs": [],
   "source": []
  },
  {
   "cell_type": "code",
   "execution_count": null,
   "id": "4c068dbe-cecf-448c-a0de-9094f6559203",
   "metadata": {},
   "outputs": [],
   "source": []
  }
 ],
 "metadata": {
  "kernelspec": {
   "display_name": "Python 3 (ipykernel)",
   "language": "python",
   "name": "python3"
  },
  "language_info": {
   "codemirror_mode": {
    "name": "ipython",
    "version": 3
   },
   "file_extension": ".py",
   "mimetype": "text/x-python",
   "name": "python",
   "nbconvert_exporter": "python",
   "pygments_lexer": "ipython3",
   "version": "3.10.14"
  }
 },
 "nbformat": 4,
 "nbformat_minor": 5
}
