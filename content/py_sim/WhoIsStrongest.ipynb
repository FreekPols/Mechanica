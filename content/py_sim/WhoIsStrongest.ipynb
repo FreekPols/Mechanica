{
 "cells": [
  {
   "cell_type": "code",
   "execution_count": 2,
   "id": "060d5aa5-1478-49db-bb92-f5cee3ce63a8",
   "metadata": {},
   "outputs": [
    {
     "data": {
      "application/vnd.jupyter.widget-view+json": {
       "model_id": "5bccbae3558c4eae8d96d089f9cf23fc",
       "version_major": 2,
       "version_minor": 0
      },
      "text/plain": [
       "interactive(children=(FloatSlider(value=0.7853981633974483, description='theta', max=1.5707963267948966, min=0…"
      ]
     },
     "metadata": {},
     "output_type": "display_data"
    },
    {
     "data": {
      "text/plain": [
       "<function __main__.update(theta, F_girl)>"
      ]
     },
     "execution_count": 2,
     "metadata": {},
     "output_type": "execute_result"
    }
   ],
   "source": [
    "import numpy as np\n",
    "import matplotlib.pyplot as plt\n",
    "from matplotlib.patches import Rectangle\n",
    "from matplotlib.transforms import Affine2D\n",
    "from ipywidgets import interact\n",
    "import ipywidgets as widgets\n",
    "\n",
    "# Constants\n",
    "def update(theta,F_girl):\n",
    "    # Compute arrow end coordinates\n",
    "    F_boys_y = F_girl / 2\n",
    "    F_boys_x = F_girl*np.tan(theta)/2\n",
    "    \n",
    "    # Clear figure\n",
    "    plt.clf()\n",
    "    fig, ax = plt.subplots()\n",
    "    ax.set_xlim(-20, 20)\n",
    "    ax.set_ylim(-20, 20)\n",
    "    ax.set_aspect('equal')\n",
    "    ax.grid(True)\n",
    "\n",
    "    # Draw arrow\n",
    "    \n",
    "    # rope\n",
    "    ax.arrow(0, 0, -20*np.sin(theta), 20*np.cos(theta),\n",
    "             head_width=0, head_length=0, fc='black', ec='black')\n",
    "    \n",
    "    ax.arrow(0, 0, 20*np.sin(theta), 20*np.cos(theta),\n",
    "             head_width=0, head_length=0, fc='black', ec='black')\n",
    "    \n",
    "    #Forces\n",
    "    ax.arrow(0, 0, 0, -F_girl,\n",
    "             head_width=1, head_length=1, fc='green', ec='green')\n",
    "\n",
    "    ax.arrow(0, 0, F_boys_x, F_boys_y,\n",
    "             head_width=1, head_length=1, fc='red', ec='red')\n",
    "    \n",
    "    ax.arrow(0, 0, -F_boys_x, F_boys_y,\n",
    "             head_width=1, head_length=1, fc='red', ec='red')\n",
    "\n",
    "    \n",
    "    plt.show()\n",
    "\n",
    "# Use FloatSlider for smooth interaction\n",
    "interact(update, theta=widgets.FloatSlider(min=0.1, max=np.pi/2, step=np.pi/16, value=np.pi/4),\n",
    "         F_girl=widgets.FloatSlider(min=3, max=10, step=1, value=3))\n"
   ]
  },
  {
   "cell_type": "code",
   "execution_count": null,
   "id": "3bcb46f4-274a-4cfc-8138-6228ab5f0398",
   "metadata": {},
   "outputs": [],
   "source": []
  }
 ],
 "metadata": {
  "kernelspec": {
   "display_name": "Python 3 (ipykernel)",
   "language": "python",
   "name": "python3"
  },
  "language_info": {
   "codemirror_mode": {
    "name": "ipython",
    "version": 3
   },
   "file_extension": ".py",
   "mimetype": "text/x-python",
   "name": "python",
   "nbconvert_exporter": "python",
   "pygments_lexer": "ipython3",
   "version": "3.10.14"
  }
 },
 "nbformat": 4,
 "nbformat_minor": 5
}
