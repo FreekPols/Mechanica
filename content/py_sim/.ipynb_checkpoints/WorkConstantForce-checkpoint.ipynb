{
 "cells": [
  {
   "cell_type": "code",
   "execution_count": 1,
   "id": "b26865a2-e9a0-43be-b866-108fa3a411e9",
   "metadata": {},
   "outputs": [
    {
     "data": {
      "application/vnd.jupyter.widget-view+json": {
       "model_id": "4aef9efce5b94ce1b095641609f2dea7",
       "version_major": 2,
       "version_minor": 0
      },
      "text/plain": [
       "interactive(children=(FloatSlider(value=5.0, description='v₀ (m/s)', max=10.0, step=0.5), FloatSlider(value=6.…"
      ]
     },
     "metadata": {},
     "output_type": "display_data"
    },
    {
     "data": {
      "text/plain": [
       "<function __main__.run_animation(v0=5.0, F=6.5, m=1.0)>"
      ]
     },
     "execution_count": 1,
     "metadata": {},
     "output_type": "execute_result"
    }
   ],
   "source": [
    "import numpy as np\n",
    "import matplotlib.pyplot as plt\n",
    "from matplotlib.animation import FuncAnimation\n",
    "from IPython.display import HTML, display\n",
    "import ipywidgets as widgets\n",
    "from ipywidgets import interact\n",
    "\n",
    "def run_animation(v0=5.0, F=6.5, m=1.0):\n",
    "    # --- Parameters ---\n",
    "    x0 = 0.0\n",
    "    t_stop = 2.0\n",
    "    dt = 0.02\n",
    "    t_values = np.arange(0, t_stop + dt, dt)\n",
    "\n",
    "    # --- Derived motion ---\n",
    "    x = x0 + v0 * t_values + 0.5 * F / m * t_values**2\n",
    "    v = v0 + F / m * t_values\n",
    "    E_kin = 0.5 * m * v**2\n",
    "    W = F * (x - x0)\n",
    "\n",
    "    # --- Plot setup ---\n",
    "    fig, axs = plt.subplots(2, 2, figsize=(10, 10))\n",
    "    ax_motion = axs[0, 0]\n",
    "    ax_position = axs[1, 0]\n",
    "    ax_ekin = axs[0, 1]\n",
    "    ax_work = axs[1, 1]\n",
    "\n",
    "    ax_motion.set_xlim(min(x)-1, max(x)+1)\n",
    "    ax_motion.set_ylim(-1, 1)\n",
    "    ax_motion.set_title(\"Particle Motion\")\n",
    "    ax_motion.set_yticks([])\n",
    "    ax_motion.axhline(y=-0.06, color='black', linewidth=5)\n",
    "\n",
    "    ax_position.set_xlim(0, t_stop)\n",
    "    ax_position.set_ylim(min(x)-1, max(x)+1)\n",
    "    ax_position.set_title(\"Position vs Time\")\n",
    "    ax_position.set_xticklabels([])\n",
    "    ax_position.set_yticklabels([])\n",
    "\n",
    "    ax_ekin.set_xlim(0, t_stop)\n",
    "    ax_ekin.set_ylim(0, max(E_kin)*1.1)\n",
    "    ax_ekin.set_title(\"Kinetic Energy vs Time\")\n",
    "    ax_ekin.set_xticklabels([])\n",
    "    ax_ekin.set_yticklabels([])\n",
    "\n",
    "    ax_work.set_xlim(0, t_stop)\n",
    "    ax_work.set_ylim(min(W)*1.1, max(W)*1.1)\n",
    "    ax_work.set_title(\"Work Done vs Time\")\n",
    "    ax_work.set_xticklabels([])\n",
    "    ax_work.set_yticklabels([])\n",
    "\n",
    "    # Artists\n",
    "    dot, = ax_motion.plot([], [], 'rs', markersize=10)\n",
    "    line_pos, = ax_position.plot([], [], 'b')\n",
    "    line_ekin, = ax_ekin.plot([], [], 'g')\n",
    "    line_work, = ax_work.plot([], [], 'r')\n",
    "\n",
    "    def init():\n",
    "        dot.set_data([], [])\n",
    "        line_pos.set_data([], [])\n",
    "        line_ekin.set_data([], [])\n",
    "        line_work.set_data([], [])\n",
    "        return dot, line_pos, line_ekin, line_work\n",
    "\n",
    "    def update(frame):\n",
    "        t = t_values[:frame]\n",
    "        dot.set_data([x[frame]], [0])\n",
    "        line_pos.set_data(t, x[:frame])\n",
    "        line_ekin.set_data(t, E_kin[:frame])\n",
    "        line_work.set_data(t, W[:frame])\n",
    "        return dot, line_pos, line_ekin, line_work\n",
    "\n",
    "    ani = FuncAnimation(fig, update, frames=len(t_values),\n",
    "                        init_func=init, interval=dt*1000, blit=True)\n",
    "\n",
    "    plt.close(fig)  # Prevent static figure display\n",
    "    display(HTML(ani.to_jshtml()))\n",
    "\n",
    "# --- Interact control panel ---\n",
    "interact(run_animation,\n",
    "         v0=widgets.FloatSlider(min=0, max=10, step=0.5, value=5.0, description=\"v₀ (m/s)\"),\n",
    "         F=widgets.FloatSlider(min=0, max=20, step=0.5, value=6.5, description=\"F (N)\"),\n",
    "         m=widgets.FloatSlider(min=0.5, max=5.0, step=0.1, value=1.0, description=\"m (kg)\"))\n"
   ]
  },
  {
   "cell_type": "code",
   "execution_count": 8,
   "id": "d3611e9c-3be2-4986-9485-d85a20914dab",
   "metadata": {},
   "outputs": [
    {
     "data": {
      "application/vnd.jupyter.widget-view+json": {
       "model_id": "24257f984f9b4aaca65b66235df57380",
       "version_major": 2,
       "version_minor": 0
      },
      "text/plain": [
       "interactive(children=(FloatSlider(value=5.0, description='v₀ (m/s)', max=10.0, step=0.5), FloatSlider(value=5.…"
      ]
     },
     "metadata": {},
     "output_type": "display_data"
    },
    {
     "data": {
      "text/plain": [
       "<function __main__.run_animation(v0, F, m)>"
      ]
     },
     "execution_count": 8,
     "metadata": {},
     "output_type": "execute_result"
    }
   ],
   "source": [
    "import numpy as np\n",
    "import matplotlib.pyplot as plt\n",
    "import ipywidgets as widgets\n",
    "from ipywidgets import interact\n",
    "\n",
    "# --- Parameters ---\n",
    "x0 = 0.0\n",
    "t_stop = 2.0\n",
    "dt = 0.02\n",
    "t = np.arange(0, t_stop + dt, dt)\n",
    "\n",
    "def run_animation(v0, F, m):\n",
    "    # --- Derived motion ---\n",
    "    x = x0 + v0 * t_values + 0.5 * F / m * t_values**2\n",
    "    v = v0 + F / m * t_values\n",
    "    E_kin = 0.5 * m * v**2\n",
    "    W = F * (x - x0)\n",
    "\n",
    "    # --- Plot setup ---\n",
    "    plt.clf()\n",
    "    \n",
    "    fig, axs = plt.subplots(3, 1, figsize=(15, 10))\n",
    "    \n",
    "    ax_position = axs[0]\n",
    "    ax_ekin = axs[1]\n",
    "    ax_work = axs[2]\n",
    "\n",
    "    ax_position.plot(t,x,'k-')\n",
    "    ax_position.set_xlim(0, t_stop)\n",
    "    ax_position.set_ylim(min(x)-1, max(x)+1)\n",
    "    ax_position.set_title(\"Position vs Time\")\n",
    "    ax_position.set_ylabel('$x$(m)')\n",
    "\n",
    "    ax_ekin.plot(t,E_kin,'k-')\n",
    "    ax_ekin.set_xlim(0, t_stop)\n",
    "    ax_ekin.set_ylim(0, max(E_kin)*1.1)\n",
    "    ax_ekin.set_title(\"Kinetic Energy vs Time\")\n",
    "    ax_ekin.set_ylabel('$E_{kin}$(J)')\n",
    "    \n",
    "    ax_work.plot(t,W,'k-')\n",
    "    ax_work.set_xlim(0, t_stop)\n",
    "    ax_work.set_ylim(min(W)*1.1, max(W)*1.1)\n",
    "    ax_work.set_title(\"Work Done vs Time\")\n",
    "    ax_work.set_ylabel('$W$(J)')\n",
    "    \n",
    "\n",
    "# --- Interact control panel ---\n",
    "interact(run_animation,\n",
    "         v0=widgets.FloatSlider(min=0, max=10, step=0.5, value=5.0, description=\"v₀ (m/s)\"),\n",
    "         F=widgets.FloatSlider(min=-5, max=5, step=0.5, value=6.5, description=\"F (N)\"),\n",
    "         m=widgets.FloatSlider(min=0.5, max=5.0, step=0.1, value=1.0, description=\"m (kg)\"))\n"
   ]
  },
  {
   "cell_type": "code",
   "execution_count": null,
   "id": "d58de9cf-34fe-498b-8cfc-ea54640e309a",
   "metadata": {},
   "outputs": [],
   "source": []
  }
 ],
 "metadata": {
  "kernelspec": {
   "display_name": "Python 3 (ipykernel)",
   "language": "python",
   "name": "python3"
  },
  "language_info": {
   "codemirror_mode": {
    "name": "ipython",
    "version": 3
   },
   "file_extension": ".py",
   "mimetype": "text/x-python",
   "name": "python",
   "nbconvert_exporter": "python",
   "pygments_lexer": "ipython3",
   "version": "3.10.14"
  }
 },
 "nbformat": 4,
 "nbformat_minor": 5
}
