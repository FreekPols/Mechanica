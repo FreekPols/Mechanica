{
 "cells": [
  {
   "cell_type": "markdown",
   "id": "57b6e35a",
   "metadata": {},
   "source": [
    "# Numerical prove of Keppler 2nd\n"
   ]
  },
  {
   "cell_type": "code",
   "execution_count": 20,
   "id": "8ac2cc2a",
   "metadata": {},
   "outputs": [
    {
     "name": "stdout",
     "output_type": "stream",
     "text": [
      "54687.63893809177\n"
     ]
    }
   ],
   "source": [
    "import numpy as np\n",
    "import matplotlib.pyplot as plt\n",
    "\n",
    "mass_sun = 1.989e30  # kg\n",
    "mass_earth = 5.972e24  # kg\n",
    "mass_halley = 2.2e14  # kg\n",
    "\n",
    "G = 6.67430e-11  # m^3 kg^-1 s^-2\n",
    "\n",
    "# perihelion\n",
    "AU = 149e9         #m\n",
    "\n",
    "v_earth = 30.29e3  # m/s\n",
    "r_earth = .98329*AU  # m\n",
    "\n",
    "v_halley = 54.68e3  # m/s\n",
    "r_halley = 0.586 * AU  # m \n",
    "\n",
    "r_peri = r_halley\n",
    "a = 17.8*AU\n",
    "v_peri = np.sqrt(G * mass_sun * (2 / r_peri - 1 / a))\n",
    "print(v_peri)\n",
    "\n",
    "\n",
    "# settings\n",
    "dt = 24 * 3600  # seconds\n",
    "t = 75 * 365 * 24 * 3600  # seconds\n",
    "N = int(t / dt)\n",
    "\n",
    "# Ic.\n",
    "v_e = np.zeros((N,2))\n",
    "v_e[0,:] = [0,v_earth]\n",
    "\n",
    "r_e = np.zeros((N,2))\n",
    "r_e[0,:] = [r_earth,0]\n",
    "\n",
    "v_h = np.zeros((N,2))\n",
    "v_h[0,:] = [0,v_halley]\n",
    "\n",
    "r_h = np.zeros((N,2))\n",
    "r_h[0,:] = [r_halley,0]\n",
    "\n",
    "t_arr = np.linspace(0,t+dt,N)"
   ]
  },
  {
   "cell_type": "code",
   "execution_count": 21,
   "id": "f078f81d",
   "metadata": {},
   "outputs": [],
   "source": [
    "# RK4 method \n",
    "for i in range(1, N):\n",
    "    # r and v at time t\n",
    "    r0 = r_h[i-1, :]\n",
    "    v0 = v_h[i-1, :]\n",
    "\n",
    "    def acceleration(r):\n",
    "        r_norm = np.linalg.norm(r)\n",
    "        return -G * mass_sun * r / r_norm**3\n",
    "\n",
    "    # k1\n",
    "    k1_v = acceleration(r0) * dt\n",
    "    k1_r = v0 * dt\n",
    "\n",
    "    # k2\n",
    "    k2_v = acceleration(r0 + 0.5 * k1_r) * dt\n",
    "    k2_r = (v0 + 0.5 * k1_v) * dt\n",
    "\n",
    "    # k3\n",
    "    k3_v = acceleration(r0 + 0.5 * k2_r) * dt\n",
    "    k3_r = (v0 + 0.5 * k2_v) * dt\n",
    "\n",
    "    # k4\n",
    "    k4_v = acceleration(r0 + k3_r) * dt\n",
    "    k4_r = (v0 + k3_v) * dt\n",
    "\n",
    "    # update velocity and position\n",
    "    v_h[i, :] = v0 + (k1_v + 2 * k2_v + 2 * k3_v + k4_v) / 6\n",
    "    r_h[i, :] = r0 + (k1_r + 2 * k2_r + 2 * k3_r + k4_r) / 6\n",
    "\n"
   ]
  },
  {
   "cell_type": "code",
   "execution_count": 22,
   "id": "1f64ac71-8575-4905-821a-7afe30e223ca",
   "metadata": {},
   "outputs": [
    {
     "name": "stdout",
     "output_type": "stream",
     "text": [
      "[2.29780307e+09]\n"
     ]
    }
   ],
   "source": [
    "r_norm = np.linalg.norm(r_h, axis=1)\n",
    "minima = (np.diff(np.sign(np.diff(r_norm))) > 0).nonzero()[0] + 1\n",
    "perihelion_times = t_arr[minima]\n",
    "\n",
    "print(perihelion_times)"
   ]
  },
  {
   "cell_type": "code",
   "execution_count": 28,
   "id": "4eceebc6",
   "metadata": {},
   "outputs": [
    {
     "data": {
      "image/png": "[encoded data removed]",
      "text/plain": [
       "<Figure size 600x600 with 1 Axes>"
      ]
     },
     "metadata": {},
     "output_type": "display_data"
    }
   ],
   "source": [
    "# Plotting the trajectory\n",
    "plt.figure(figsize=(6, 6))\n",
    "plt.xlabel('X Position (m)')\n",
    "plt.ylabel('Y Position (m)')\n",
    "\n",
    "plt.plot(r_h[:, 0], r_h[:, 1], label='Earth Trajectory', color='blue')\n",
    "\n",
    "N = 26500\n",
    "plt.plot(r_h[N, 0], r_h[N, 1], 'r.')\n",
    "\n",
    "plt.scatter(0, 0, color='yellow', s=100, label='Sun')  # Sun at origin\n",
    "plt.gca().set_aspect('equal')\n",
    "# plt.title('Earth Trajectory Around the Sun')\n",
    "plt.title('Halley\\'s Trajectory Around the Sun')\n",
    "\n",
    "\n",
    "plt.grid()\n",
    "#plt.legend()\n",
    "plt.show()"
   ]
  },
  {
   "cell_type": "code",
   "execution_count": null,
   "id": "12910e95",
   "metadata": {},
   "outputs": [
    {
     "name": "stderr",
     "output_type": "stream",
     "text": [
      "C:\\Users\\fpols\\AppData\\Local\\Temp\\ipykernel_12512\\1323268240.py:37: MatplotlibDeprecationWarning: Setting data with a non sequence type is deprecated since 3.7 and will be remove two minor releases later\n",
      "  comet.set_data(r_h[i, 0], r_h[i, 1])\n"
     ]
    }
   ],
   "source": [
    "import matplotlib.pyplot as plt\n",
    "import matplotlib.animation as animation\n",
    "import numpy as np\n",
    "from IPython.display import HTML, display\n",
    "\n",
    "# Assuming r_h (N x 2) and t_arr (N,) are defined\n",
    "\n",
    "fig, ax = plt.subplots(figsize=(6, 6))\n",
    "\n",
    "# Static grey trajectory\n",
    "ax.plot(r_h[:, 0], r_h[:, 1], color='lightgray', label='Full Trajectory')\n",
    "\n",
    "# Sun at origin\n",
    "ax.scatter(0, 0, color='yellow', s=100, label='Sun')\n",
    "\n",
    "# Comet and trail\n",
    "comet, = ax.plot([], [], 'ro', label='Comet')\n",
    "trail, = ax.plot([], [], 'r-', linewidth=1)\n",
    "\n",
    "# Equal aspect and limits\n",
    "ax.set_aspect('equal')\n",
    "ax.set_xlim(np.min(r_h[:, 0]) * 1.1, np.max(r_h[:, 0]) * 1.1)\n",
    "ax.set_ylim(np.min(r_h[:, 1]) * 1.1, np.max(r_h[:, 1]) * 1.1)\n",
    "ax.set_title(\"Halley's Comet Trajectory\")\n",
    "ax.set_xlabel('X Position (m)')\n",
    "ax.set_ylabel('Y Position (m)')\n",
    "ax.grid()\n",
    "\n",
    "# Init function\n",
    "def init():\n",
    "    comet.set_data([], [])\n",
    "    trail.set_data([], [])\n",
    "    return comet, trail\n",
    "\n",
    "# Animation function\n",
    "def animate(i):\n",
    "    comet.set_data(r_h[i, 0], r_h[i, 1])\n",
    "    trail.set_data(r_h[:i+1, 0], r_h[:i+1, 1])\n",
    "    return comet, trail\n",
    "\n",
    "# Create animation\n",
    "ani = animation.FuncAnimation(fig, animate, frames=len(t_arr),\n",
    "                              init_func=init, blit=True, interval=30)\n",
    "display(HTML(ani.to_jshtml()))\n"
   ]
  },
  {
   "cell_type": "code",
   "execution_count": null,
   "id": "2d6612df",
   "metadata": {},
   "outputs": [],
   "source": []
  }
 ],
 "metadata": {
  "kernelspec": {
   "display_name": "Python 3 (ipykernel)",
   "language": "python",
   "name": "python3"
  },
  "language_info": {
   "codemirror_mode": {
    "name": "ipython",
    "version": 3
   },
   "file_extension": ".py",
   "mimetype": "text/x-python",
   "name": "python",
   "nbconvert_exporter": "python",
   "pygments_lexer": "ipython3",
   "version": "3.10.14"
  }
 },
 "nbformat": 4,
 "nbformat_minor": 5
}
