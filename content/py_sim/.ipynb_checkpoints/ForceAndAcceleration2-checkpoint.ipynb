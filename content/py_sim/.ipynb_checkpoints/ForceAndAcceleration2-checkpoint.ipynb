{
 "cells": [
  {
   "cell_type": "code",
   "execution_count": 3,
   "id": "ef74b6ec-94f0-4eed-b9e2-6bfce50d0916",
   "metadata": {},
   "outputs": [
    {
     "data": {
      "application/vnd.jupyter.widget-view+json": {
       "model_id": "5d28656c2ba2475b87eee38e8399f4ec",
       "version_major": 2,
       "version_minor": 0
      },
      "text/plain": [
       "interactive(children=(FloatSlider(value=9.81, description='g (m/s²)', max=15.0, min=1.5), IntSlider(value=1, d…"
      ]
     },
     "metadata": {},
     "output_type": "display_data"
    },
    {
     "data": {
      "text/plain": [
       "<function __main__.run_animation(g=9.81, M=1)>"
      ]
     },
     "execution_count": 3,
     "metadata": {},
     "output_type": "execute_result"
    }
   ],
   "source": [
    "import numpy as np\n",
    "import matplotlib.pyplot as plt\n",
    "from matplotlib.patches import Rectangle\n",
    "from matplotlib.animation import FuncAnimation\n",
    "from IPython.display import HTML, display\n",
    "from ipywidgets import interact, FloatSlider, IntSlider\n",
    "\n",
    "def run_animation(g=9.81, M=1):\n",
    "    m1 = 1.0  # red block mass\n",
    "    acc = M / (m1 + M) * g  # Net acceleration\n",
    "\n",
    "    t_stop = 1.5\n",
    "    dt = 0.02\n",
    "    t_vals = np.arange(0, t_stop, dt)\n",
    "\n",
    "    scale_factor = 25\n",
    "    x0 = 40\n",
    "    y0 = 210\n",
    "\n",
    "    fig, ax = plt.subplots(figsize=(9, 5))\n",
    "    ax.set_xlim(0, 900)\n",
    "    ax.set_ylim(500, 0)\n",
    "    ax.axis('off')\n",
    "\n",
    "    # Static scene\n",
    "    ax.fill_between([20, 320], 180, 190, color='black')  # floor\n",
    "    pulley = plt.Circle((320, 180), 15, color='grey')\n",
    "    ax.add_patch(pulley)\n",
    "\n",
    "    ax.plot([450, 450], [20, 470], color='black')   # y-axis\n",
    "    ax.plot([450, 800], [420, 420], color='black')  # x-axis\n",
    "    ax.text(408, 170, \"x (m)\", fontsize=12)\n",
    "    ax.text(780, 440, \"t (s)\", fontsize=12)\n",
    "\n",
    "    for i, y in enumerate(range(125, 426, 75)):\n",
    "        ax.text(423, y, f\"{(4 - i):.1f}\", fontsize=10)\n",
    "    for i, x in enumerate([540, 640, 740]):\n",
    "        ax.text(x, 440, f\"{0.5 * (i + 1):.1f}\", fontsize=10)\n",
    "\n",
    "    for i in range(24):\n",
    "        ax.plot([450, 800], [420 - 15 * (i + 1)] * 2, color='grey', linewidth=0.5)\n",
    "    for i in range(17):\n",
    "        ax.plot([450 + 20 * (i + 1)] * 2, [60, 420], color='grey', linewidth=0.5)\n",
    "\n",
    "    # Dynamic elements\n",
    "    red_block = Rectangle((x0, 150), 30, 30, color='red')\n",
    "    grey_block = Rectangle((320, y0), 30, 30, color='grey')\n",
    "    ax.add_patch(red_block)\n",
    "    ax.add_patch(grey_block)\n",
    "    cord1, = ax.plot([], [], color='black')\n",
    "    cord2, = ax.plot([], [], color='black')\n",
    "    trace, = ax.plot([], [], color='blue')\n",
    "    x_trace, y_trace = [], []\n",
    "\n",
    "    def update(frame):\n",
    "        t = frame * dt\n",
    "        disp = scale_factor * 0.5 * acc * t**2\n",
    "\n",
    "        x = min(x0 + disp, 270)\n",
    "        y = min(y0 + disp, 440)\n",
    "\n",
    "        red_block.set_xy((x, 150))\n",
    "        grey_block.set_xy((320, y))\n",
    "        cord1.set_data([x + 30, 320], [165, 165])\n",
    "        cord2.set_data([335, 335], [180, y])\n",
    "\n",
    "        if x < 270:\n",
    "            x_trace.append(450 + (200 * t))\n",
    "            y_trace.append(420 - 1.53 * (x - x0))\n",
    "            trace.set_data(x_trace, y_trace)\n",
    "\n",
    "        return red_block, grey_block, cord1, cord2, trace\n",
    "\n",
    "    ani = FuncAnimation(fig, update, frames=len(t_vals), blit=True, interval=dt * 1000)\n",
    "\n",
    "    plt.close(fig)  # Prevent duplicate static figure\n",
    "    display(HTML(ani.to_jshtml()))\n",
    "\n",
    "# Interact widget with sliders\n",
    "interact(run_animation,\n",
    "         g=FloatSlider(min=1.5, max=15.0, step=0.1, value=9.81, description='g (m/s²)'),\n",
    "         M=IntSlider(min=1, max=5, step=1, value=1, description='Mass (kg)'))\n"
   ]
  },
  {
   "cell_type": "code",
   "execution_count": null,
   "id": "195c30d9-f6d5-4e16-8dc3-e57f2638e315",
   "metadata": {},
   "outputs": [],
   "source": []
  }
 ],
 "metadata": {
  "kernelspec": {
   "display_name": "Python 3 (ipykernel)",
   "language": "python",
   "name": "python3"
  },
  "language_info": {
   "codemirror_mode": {
    "name": "ipython",
    "version": 3
   },
   "file_extension": ".py",
   "mimetype": "text/x-python",
   "name": "python",
   "nbconvert_exporter": "python",
   "pygments_lexer": "ipython3",
   "version": "3.10.14"
  }
 },
 "nbformat": 4,
 "nbformat_minor": 5
}
