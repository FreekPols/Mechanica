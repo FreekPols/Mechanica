{
 "cells": [
  {
   "cell_type": "code",
   "execution_count": 6,
   "id": "27c086e0-cb0d-4d90-8ffc-8e97866db9dc",
   "metadata": {},
   "outputs": [
    {
     "data": {
      "application/vnd.jupyter.widget-view+json": {
       "model_id": "b1dd49b740a94b9bb2e7e4cb3b95efff",
       "version_major": 2,
       "version_minor": 0
      },
      "text/plain": [
       "interactive(children=(IntSlider(value=1, description='force_num', max=3, min=1), Output()), _dom_classes=('wid…"
      ]
     },
     "metadata": {},
     "output_type": "display_data"
    },
    {
     "data": {
      "text/plain": [
       "<function __main__.update(force_num)>"
      ]
     },
     "execution_count": 6,
     "metadata": {},
     "output_type": "execute_result"
    }
   ],
   "source": [
    "import numpy as np\n",
    "import matplotlib.pyplot as plt\n",
    "from ipywidgets import interact\n",
    "import ipywidgets as widgets\n",
    "\n",
    "# Parameters\n",
    "t_stop = 5\n",
    "dt = 0.01\n",
    "t = np.arange(0, t_stop + dt, dt)\n",
    "\n",
    "# Force functions definitions\n",
    "def force1(t):\n",
    "    a = 10\n",
    "    x = 0.5 * a * t**2\n",
    "    v = a * t\n",
    "    return x, v\n",
    "\n",
    "def force2(t):\n",
    "    x = (1/6) * 10 * t**3\n",
    "    v = 0.5 * 10 * t**2\n",
    "    return x, v\n",
    "\n",
    "def force3(t):\n",
    "    x = 125 * (1 - np.cos(np.pi * t / 2))\n",
    "    v = 125 * (np.pi / 2) * np.sin(np.pi * t / 2)\n",
    "    return x, v\n",
    "\n",
    "def update(force_num):\n",
    "    fig, axs = plt.subplots(2, 1, figsize=(8, 6), gridspec_kw={'hspace': 0.4})\n",
    "\n",
    "    if force_num == 1:\n",
    "        selected_force = force1\n",
    "    elif force_num == 2:\n",
    "        selected_force = force2\n",
    "    else:\n",
    "        selected_force = force3\n",
    "\n",
    "    x_vals, v_vals = selected_force(t)\n",
    "\n",
    "    # Velocity vs Time\n",
    "    ax1 = axs[0]\n",
    "    ax1.plot(t, v_vals, 'b-')\n",
    "    ax1.set_xlim(0, t_stop)\n",
    "    ax1.set_ylim(-np.max(v_vals) * 1.2, np.max(v_vals) * 1.2)\n",
    "    ax1.set_xlabel('Time (s)')\n",
    "    ax1.set_ylabel('Velocity (cm/s)')\n",
    "    ax1.set_title('Velocity vs Time')\n",
    "    ax1.grid(True)\n",
    "\n",
    "    # Position vs Time\n",
    "    ax2 = axs[1]\n",
    "    ax2.plot(t, x_vals, 'r-')\n",
    "    ax2.set_xlim(0, t_stop)\n",
    "    ax2.set_ylim(0, np.max(x_vals) * 1.2)\n",
    "    ax2.set_xlabel('Time (s)')\n",
    "    ax2.set_ylabel('Position (cm)')\n",
    "    ax2.set_title('Position vs Time')\n",
    "    ax2.grid(True)\n",
    "\n",
    "    plt.show()\n",
    "\n",
    "interact(update, force_num=widgets.IntSlider(min=1, max=3, step=1, value=1))\n"
   ]
  },
  {
   "cell_type": "code",
   "execution_count": null,
   "id": "4abf5825-5765-4e5a-946a-3b069e1155dc",
   "metadata": {},
   "outputs": [],
   "source": []
  }
 ],
 "metadata": {
  "kernelspec": {
   "display_name": "Python 3 (ipykernel)",
   "language": "python",
   "name": "python3"
  },
  "language_info": {
   "codemirror_mode": {
    "name": "ipython",
    "version": 3
   },
   "file_extension": ".py",
   "mimetype": "text/x-python",
   "name": "python",
   "nbconvert_exporter": "python",
   "pygments_lexer": "ipython3",
   "version": "3.10.14"
  }
 },
 "nbformat": 4,
 "nbformat_minor": 5
}
