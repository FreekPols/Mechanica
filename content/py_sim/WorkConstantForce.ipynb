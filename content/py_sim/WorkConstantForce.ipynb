{
 "cells": [
  {
   "cell_type": "code",
   "execution_count": 2,
   "id": "d3611e9c-3be2-4986-9485-d85a20914dab",
   "metadata": {},
   "outputs": [
    {
     "data": {
      "application/vnd.jupyter.widget-view+json": {
       "model_id": "052d40d4a22c42208513f4e6c7015281",
       "version_major": 2,
       "version_minor": 0
      },
      "text/plain": [
       "interactive(children=(FloatSlider(value=5.0, description='v₀ (m/s)', max=10.0, step=0.5), FloatSlider(value=5.…"
      ]
     },
     "metadata": {},
     "output_type": "display_data"
    },
    {
     "data": {
      "text/plain": [
       "<function __main__.run_animation(v0, F, m)>"
      ]
     },
     "execution_count": 2,
     "metadata": {},
     "output_type": "execute_result"
    }
   ],
   "source": [
    "import numpy as np\n",
    "import matplotlib.pyplot as plt\n",
    "import ipywidgets as widgets\n",
    "from ipywidgets import interact\n",
    "\n",
    "# --- Parameters ---\n",
    "x0 = 0.0\n",
    "t_stop = 2.0\n",
    "dt = 0.02\n",
    "t = np.arange(0, t_stop + dt, dt)\n",
    "\n",
    "def run_animation(v0, F, m):\n",
    "    # --- Derived motion ---\n",
    "    x = x0 + v0 * t + 0.5 * F / m * t**2\n",
    "    v = v0 + F / m * t\n",
    "    E_kin = 0.5 * m * v**2\n",
    "    W = F * (x - x0)\n",
    "\n",
    "    # --- Plot setup ---\n",
    "    plt.clf()\n",
    "    \n",
    "    fig, axs = plt.subplots(2, 1, figsize=(15, 10))\n",
    "    \n",
    "    ax_position = axs[0]\n",
    "    ax_ekin = axs[1]\n",
    " \n",
    "\n",
    "    ax_position.plot(t,x,'k-')\n",
    "    ax_position.set_xlim(0, t_stop)\n",
    "    ax_position.set_ylim(min(x)-1, max(x)+1)\n",
    "    ax_position.set_title(\"Position vs Time\")\n",
    "    ax_position.set_ylabel('$x$(m)')\n",
    "\n",
    "    ax_ekin.plot(t,E_kin,'k-',label='$E_{kin}$')\n",
    "    ax_ekin.plot(t,W,'r-',label='$W$')\n",
    "    ax_ekin.set_xlim(0, t_stop)\n",
    "    ax_ekin.set_ylim(0, max(E_kin)*1.1)\n",
    "    ax_ekin.set_title(\"Kinetic Energy vs Time\")\n",
    "    ax_ekin.set_ylabel('$E$(J)')\n",
    "    \n",
    "\n",
    "    \n",
    "# --- Interact control panel ---\n",
    "interact(run_animation,\n",
    "         v0=widgets.FloatSlider(min=0, max=10, step=0.5, value=5.0, description=\"v₀ (m/s)\"),\n",
    "         F=widgets.FloatSlider(min=-5, max=5, step=0.5, value=6.5, description=\"F (N)\"),\n",
    "         m=widgets.FloatSlider(min=0.5, max=5.0, step=0.1, value=1.0, description=\"m (kg)\"))\n"
   ]
  },
  {
   "cell_type": "code",
   "execution_count": null,
   "id": "d58de9cf-34fe-498b-8cfc-ea54640e309a",
   "metadata": {},
   "outputs": [],
   "source": []
  }
 ],
 "metadata": {
  "kernelspec": {
   "display_name": "base",
   "language": "python",
   "name": "python3"
  },
  "language_info": {
   "codemirror_mode": {
    "name": "ipython",
    "version": 3
   },
   "file_extension": ".py",
   "mimetype": "text/x-python",
   "name": "python",
   "nbconvert_exporter": "python",
   "pygments_lexer": "ipython3",
   "version": "3.10.14"
  }
 },
 "nbformat": 4,
 "nbformat_minor": 5
}
