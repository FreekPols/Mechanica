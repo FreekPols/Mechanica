{
 "cells": [
  {
   "cell_type": "markdown",
   "id": "57b6e35a",
   "metadata": {},
   "source": [
    "# Numerical prove of Keppler 2nd\n"
   ]
  },
  {
   "cell_type": "code",
   "execution_count": 1,
   "id": "8ac2cc2a",
   "metadata": {},
   "outputs": [
    {
     "name": "stdout",
     "output_type": "stream",
     "text": [
      "54687.63893809177\n"
     ]
    }
   ],
   "source": [
    "import numpy as np\n",
    "import matplotlib.pyplot as plt\n",
    "from ipywidgets import interact\n",
    "import ipywidgets as widgets\n",
    "\n",
    "mass_sun = 1.989e30  # kg\n",
    "mass_earth = 5.972e24  # kg\n",
    "mass_halley = 2.2e14  # kg\n",
    "\n",
    "G = 6.67430e-11  # m^3 kg^-1 s^-2\n",
    "\n",
    "# perihelion\n",
    "AU = 149e9         #m\n",
    "\n",
    "v_earth = 30.29e3  # m/s\n",
    "r_earth = .98329*AU  # m\n",
    "\n",
    "v_halley = 54.68e3  # m/s\n",
    "r_halley = 0.586 * AU  # m \n",
    "\n",
    "r_peri = r_halley\n",
    "a = 17.8*AU\n",
    "v_peri = np.sqrt(G * mass_sun * (2 / r_peri - 1 / a))\n",
    "print(v_peri)\n",
    "\n",
    "\n",
    "# settings\n",
    "dt = 24 * 3600  # seconds\n",
    "t = 75 * 365 * 24 * 3600  # seconds\n",
    "N = int(t / dt)\n",
    "\n",
    "# Ic.\n",
    "v_e = np.zeros((N,2))\n",
    "v_e[0,:] = [0,v_earth]\n",
    "\n",
    "r_e = np.zeros((N,2))\n",
    "r_e[0,:] = [r_earth,0]\n",
    "\n",
    "v_h = np.zeros((N,2))\n",
    "v_h[0,:] = [0,v_halley]\n",
    "\n",
    "r_h = np.zeros((N,2))\n",
    "r_h[0,:] = [r_halley,0]\n",
    "\n",
    "t_arr = np.linspace(0,t+dt,N)"
   ]
  },
  {
   "cell_type": "code",
   "execution_count": 2,
   "id": "f078f81d",
   "metadata": {},
   "outputs": [],
   "source": [
    "# RK4 method \n",
    "for i in range(1, N):\n",
    "    # r and v at time t\n",
    "    r0 = r_h[i-1, :]\n",
    "    v0 = v_h[i-1, :]\n",
    "\n",
    "    def acceleration(r):\n",
    "        r_norm = np.linalg.norm(r)\n",
    "        return -G * mass_sun * r / r_norm**3\n",
    "\n",
    "    # k1\n",
    "    k1_v = acceleration(r0) * dt\n",
    "    k1_r = v0 * dt\n",
    "\n",
    "    # k2\n",
    "    k2_v = acceleration(r0 + 0.5 * k1_r) * dt\n",
    "    k2_r = (v0 + 0.5 * k1_v) * dt\n",
    "\n",
    "    # k3\n",
    "    k3_v = acceleration(r0 + 0.5 * k2_r) * dt\n",
    "    k3_r = (v0 + 0.5 * k2_v) * dt\n",
    "\n",
    "    # k4\n",
    "    k4_v = acceleration(r0 + k3_r) * dt\n",
    "    k4_r = (v0 + k3_v) * dt\n",
    "\n",
    "    # update velocity and position\n",
    "    v_h[i, :] = v0 + (k1_v + 2 * k2_v + 2 * k3_v + k4_v) / 6\n",
    "    r_h[i, :] = r0 + (k1_r + 2 * k2_r + 2 * k3_r + k4_r) / 6\n",
    "\n"
   ]
  },
  {
   "cell_type": "code",
   "execution_count": 3,
   "id": "1f64ac71-8575-4905-821a-7afe30e223ca",
   "metadata": {},
   "outputs": [
    {
     "name": "stdout",
     "output_type": "stream",
     "text": [
      "[2.29780307e+09]\n"
     ]
    }
   ],
   "source": [
    "r_norm = np.linalg.norm(r_h, axis=1)\n",
    "minima = (np.diff(np.sign(np.diff(r_norm))) > 0).nonzero()[0] + 1\n",
    "perihelion_times = t_arr[minima]\n",
    "\n",
    "print(perihelion_times)"
   ]
  },
  {
   "cell_type": "code",
   "execution_count": null,
   "id": "4eceebc6",
   "metadata": {},
   "outputs": [
    {
     "data": {
      "application/vnd.jupyter.widget-view+json": {
       "model_id": "e2831b46175c4b8a93a36d3758e828c5",
       "version_major": 2,
       "version_minor": 0
      },
      "text/plain": [
       "interactive(children=(IntSlider(value=1, description='t_sim', max=27374, step=1825), Output()), _dom_classes=(…"
      ]
     },
     "metadata": {},
     "output_type": "display_data"
    },
    {
     "data": {
      "text/plain": [
       "<function __main__.sim_kep(t_sim)>"
      ]
     },
     "execution_count": 30,
     "metadata": {},
     "output_type": "execute_result"
    }
   ],
   "source": [
    "# Plotting the trajectory\n",
    "\n",
    "def sim_kep(t_sim):\n",
    "\n",
    "    plt.figure(figsize=(10, 6))\n",
    "    plt.xlabel('X Position (m)')\n",
    "    plt.ylabel('Y Position (m)')\n",
    "\n",
    "    plt.plot(r_h[:, 0], r_h[:, 1], label='Earth Trajectory', color='lightgray')\n",
    "\n",
    "\n",
    "    # plt.plot(r_h[N, 0], r_h[N, 1], 'r.')\n",
    "\n",
    "    plt.scatter(0, 0, color='yellow', s=100, label='Sun')  # Sun at origin\n",
    "    plt.gca().set_aspect('equal')\n",
    "    # plt.title('Earth Trajectory Around the Sun')\n",
    "    plt.title('Halley\\'s Trajectory Around the Sun')\n",
    "\n",
    "    for i in range(1,t_sim,int(N/15)):\n",
    "        plt.plot(r_h[:i, 0], r_h[:i, 1], label='Earth Trajectory', color='black')\n",
    "        plt.plot(r_h[i, 0], r_h[i, 1], 'r.')\n",
    "        plt.arrow(0,0,r_h[i, 0], r_h[i, 1], color='darkgreen')\n",
    "\n",
    "    plt.text(0,5e11, str(int(t_sim/(365)))+'years')\n",
    "    plt.grid()\n",
    "    #plt.legend()\n",
    "    plt.show()\n",
    "\n",
    "interact(sim_kep, t_sim=widgets.IntSlider(min=0, max=N-1, step=int(N/15), value=1))"
   ]
  },
  {
   "cell_type": "code",
   "execution_count": null,
   "id": "2d6612df",
   "metadata": {},
   "outputs": [],
   "source": []
  }
 ],
 "metadata": {
  "kernelspec": {
   "display_name": "Python 3 (ipykernel)",
   "language": "python",
   "name": "python3"
  },
  "language_info": {
   "codemirror_mode": {
    "name": "ipython",
    "version": 3
   },
   "file_extension": ".py",
   "mimetype": "text/x-python",
   "name": "python",
   "nbconvert_exporter": "python",
   "pygments_lexer": "ipython3",
   "version": "3.10.14"
  }
 },
 "nbformat": 4,
 "nbformat_minor": 5
}
