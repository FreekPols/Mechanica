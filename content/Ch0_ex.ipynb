{
 "cells": [
  {
   "cell_type": "markdown",
   "id": "48b75fbe",
   "metadata": {},
   "source": [
    "# Exercises\n",
    "\n",
    "```{exercise}\n",
    ":label: ex_ch0_01\n",
    "\n",
    "Given the formula $F=k v^2$. Derive the unit of k.\n",
    "```\n",
    "\n",
    "```{exercise}\n",
    ":label: ex_ch0_02\n",
    "\n",
    "A box is on a friction incline of 10$\\deg$. It is pushed upward with a force $F_i$ for $\\Delta t = 0.5$s. \n",
    "\n",
    "Below is a part of the python code...\n",
    "```"
   ]
  },
  {
   "cell_type": "markdown",
   "id": "b87f39c8",
   "metadata": {},
   "source": []
  }
 ],
 "metadata": {
  "language_info": {
   "name": "python"
  }
 },
 "nbformat": 4,
 "nbformat_minor": 5
}
