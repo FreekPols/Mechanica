{
 "cells": [
  {
   "cell_type": "markdown",
   "id": "48b75fbe",
   "metadata": {},
   "source": [
    "# Exercises"
   ]
  }
 ],
 "metadata": {
  "language_info": {
   "name": "python"
  }
 },
 "nbformat": 4,
 "nbformat_minor": 5
}
