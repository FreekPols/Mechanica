{
 "cells": [
  {
   "cell_type": "markdown",
   "id": "493980af",
   "metadata": {},
   "source": [
    "# Numerical simulations\n",
    "\n",
    "hier een module over numerieke simulaties."
   ]
  },
  {
   "cell_type": "code",
   "execution_count": null,
   "id": "8c54539d",
   "metadata": {},
   "outputs": [],
   "source": []
  },
  {
   "cell_type": "markdown",
   "id": "8dfb6da6",
   "metadata": {},
   "source": []
  }
 ],
 "metadata": {
  "language_info": {
   "name": "python"
  }
 },
 "nbformat": 4,
 "nbformat_minor": 5
}
